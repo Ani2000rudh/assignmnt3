{
 "cells": [
  {
   "cell_type": "code",
   "execution_count": 6,
   "id": "e404531b-21cf-438b-8a89-cf409d6bbfde",
   "metadata": {},
   "outputs": [],
   "source": [
    "#Q1. Create a python program to sort the given list of tuples based on integer value using alambda function.\n",
    "\n",
    "o=[('Sachin Tendulkar', 34357), ('Ricky Ponting', 27483), ('Jack Kallis', 25534), ('Virat Kohli', 24936)]"
   ]
  },
  {
   "cell_type": "code",
   "execution_count": 11,
   "id": "11debba0-45b5-4281-bbf1-f3de45a6b3e1",
   "metadata": {},
   "outputs": [],
   "source": [
    "c=lambda x:sorted(x),o"
   ]
  },
  {
   "cell_type": "code",
   "execution_count": 15,
   "id": "cd26dd83-372d-4581-b9c5-26cb0f4b72f4",
   "metadata": {},
   "outputs": [
    {
     "data": {
      "text/plain": [
       "[('Jack Kallis', 25534),\n",
       " ('Ricky Ponting', 27483),\n",
       " ('Sachin Tendulkar', 34357),\n",
       " ('Virat Kohli', 24936)]"
      ]
     },
     "execution_count": 15,
     "metadata": {},
     "output_type": "execute_result"
    }
   ],
   "source": [
    "c # alphabets are sorted acc to ansi"
   ]
  },
  {
   "cell_type": "code",
   "execution_count": 16,
   "id": "be9ff71a-60f9-444c-977d-f98339a01fed",
   "metadata": {},
   "outputs": [
    {
     "data": {
      "text/plain": [
       "[1, 4, 9, 16, 25, 36, 49, 64, 81, 100]"
      ]
     },
     "execution_count": 16,
     "metadata": {},
     "output_type": "execute_result"
    }
   ],
   "source": [
    "#Q2. Write a Python Program to find the squares of all the numbers in the given list of integers usinglambda and map functions.\n",
    "a=[1, 2, 3, 4, 5, 6, 7, 8, 9, 10]\n",
    "\n",
    "list(map(lambda x:x**2,a))"
   ]
  },
  {
   "cell_type": "code",
   "execution_count": 21,
   "id": "31bf3dc4-ff98-4ae7-ba8e-f37a265ee4b2",
   "metadata": {},
   "outputs": [],
   "source": [
    "#Q3. Write a python program to convert the given list of integers into a tuple of strings. Use map andlambda functions\n",
    "w = [1, 2, 3, 4, 5, 6, 7, 8, 9, 10]\n",
    "\n"
   ]
  },
  {
   "cell_type": "code",
   "execution_count": 27,
   "id": "d1ce9c95-cdca-4653-ae37-3fe7ddf95df6",
   "metadata": {},
   "outputs": [
    {
     "data": {
      "text/plain": [
       "['1', '2', '3', '4', '5', '6', '7', '8', '9', '10']"
      ]
     },
     "execution_count": 27,
     "metadata": {},
     "output_type": "execute_result"
    }
   ],
   "source": [
    "a=list(map(lambda x:str(x),a))\n",
    "a"
   ]
  },
  {
   "cell_type": "code",
   "execution_count": 28,
   "id": "1c27f5f9-1fdc-4f67-9acd-a3ecb3669d18",
   "metadata": {},
   "outputs": [
    {
     "data": {
      "text/plain": [
       "('1', '2', '3', '4', '5', '6', '7', '8', '9', '10')"
      ]
     },
     "execution_count": 28,
     "metadata": {},
     "output_type": "execute_result"
    }
   ],
   "source": [
    "tuple(a)"
   ]
  },
  {
   "cell_type": "code",
   "execution_count": 29,
   "id": "85a61e2d-5be3-4540-8d13-c9980905296c",
   "metadata": {},
   "outputs": [
    {
     "data": {
      "text/plain": [
       "14890761641597746544640000"
      ]
     },
     "execution_count": 29,
     "metadata": {},
     "output_type": "execute_result"
    }
   ],
   "source": [
    "#Q4. Write a python program using reduce function to compute the product of a list containing numbersfrom 1 to 25.\n",
    "\n",
    "\n",
    "a=[1,2,3,4,5,6,7,8,9,10,11,12,13,14,15,16,17,18,19,20,21,22,23,24,24]\n",
    "from functools import  reduce\n",
    "reduce(lambda x,y:x*y,a)"
   ]
  },
  {
   "cell_type": "code",
   "execution_count": 31,
   "id": "a9f4b806-0720-4d38-9735-0e269e276d21",
   "metadata": {},
   "outputs": [
    {
     "data": {
      "text/plain": [
       "[2, 6, 60, 90, 120, 46]"
      ]
     },
     "execution_count": 31,
     "metadata": {},
     "output_type": "execute_result"
    }
   ],
   "source": [
    "#Q5. Write a python program to filter the numbers in a given list that are divisible by 2 and 3 using thefilter function.\n",
    "b=[2, 3, 6, 9, 27, 60, 90, 120, 55, 46]\n",
    "\n",
    "#1\n",
    "list(filter(lambda x:x%2==0,b))"
   ]
  },
  {
   "cell_type": "code",
   "execution_count": null,
   "id": "dc0a6c32-c144-4983-8f05-74f5071f1d02",
   "metadata": {},
   "outputs": [],
   "source": [
    "#2\n",
    "list(filter(lambda x:x%3==0,b))"
   ]
  },
  {
   "cell_type": "code",
   "execution_count": null,
   "id": "42966a06-88d9-4044-a6c2-9661d2bc6f26",
   "metadata": {},
   "outputs": [],
   "source": [
    "#Q6. Write a python program to find palindromes in the given list of strings using lambda and filterfunction.\n",
    "q=['python', 'php', 'aba', 'radar', 'level']\n",
    "\n",
    "\n",
    "q=['python', 'php', 'aba', 'radar', 'level']\n",
    "for i in q:\n",
    "    a=(i[ : :-1])\n",
    "    print(a)\n",
    "    if i==a:\n",
    "        print(i,\"is palindrome\")\n",
    "    else:\n",
    "        print(i,\"is not palindrome\")"
   ]
  },
  {
   "cell_type": "code",
   "execution_count": null,
   "id": "8d60ca51-4005-4f1f-893c-8e66ec4c503f",
   "metadata": {},
   "outputs": [],
   "source": []
  },
  {
   "cell_type": "code",
   "execution_count": null,
   "id": "bf818b54-07b0-4817-8ebe-0349777e1560",
   "metadata": {},
   "outputs": [],
   "source": []
  },
  {
   "cell_type": "code",
   "execution_count": null,
   "id": "7e13bd7d-2f80-4f88-8588-592bd6baf0b2",
   "metadata": {},
   "outputs": [],
   "source": []
  },
  {
   "cell_type": "code",
   "execution_count": null,
   "id": "4862fd15-08d7-4aed-a604-b45934ce676f",
   "metadata": {},
   "outputs": [],
   "source": []
  },
  {
   "cell_type": "code",
   "execution_count": null,
   "id": "c98f57db-7656-48fb-9d21-f4afa8e782ca",
   "metadata": {},
   "outputs": [],
   "source": []
  },
  {
   "cell_type": "code",
   "execution_count": null,
   "id": "79d24fca-86f9-4d03-bf5c-4a9acaa7854d",
   "metadata": {},
   "outputs": [],
   "source": []
  }
 ],
 "metadata": {
  "kernelspec": {
   "display_name": "Python 3 (ipykernel)",
   "language": "python",
   "name": "python3"
  },
  "language_info": {
   "codemirror_mode": {
    "name": "ipython",
    "version": 3
   },
   "file_extension": ".py",
   "mimetype": "text/x-python",
   "name": "python",
   "nbconvert_exporter": "python",
   "pygments_lexer": "ipython3",
   "version": "3.10.8"
  }
 },
 "nbformat": 4,
 "nbformat_minor": 5
}
